{
 "cells": [
  {
   "cell_type": "code",
   "execution_count": 2,
   "metadata": {},
   "outputs": [],
   "source": [
    "import requests\n",
    "\n",
    "from bs4 import BeautifulSoup\n",
    "\n",
    "req = requests.get('https://movie.daum.net/boxoffice/weekly')\n",
    "\n",
    "html = req.text\n",
    "\n",
    "header = req.headers\n",
    "\n",
    "status = req.status_code\n",
    "\n",
    "soup = BeautifulSoup(html, 'html.parser')"
   ]
  },
  {
   "cell_type": "code",
   "execution_count": 12,
   "metadata": {},
   "outputs": [],
   "source": [
    "my_titles = soup.select(\n",
    "    'li > div') #mArticle > ul > li:nth-child(4) > div.wrap_movie > div > a"
   ]
  },
  {
   "cell_type": "code",
   "execution_count": 13,
   "metadata": {},
   "outputs": [
    {
     "name": "stdout",
     "output_type": "stream",
     "text": [
      "\n",
      "정직한 후보\n",
      "\n",
      "평점 \n",
      "7.7/10\n",
      "\n",
      "\n",
      "주간관객\n",
      "주간관객 893781명\n",
      "개봉일\n",
      "2020.02.12 개봉\n",
      "\n",
      "\n",
      "None\n",
      "\n",
      "클로젯\n",
      "\n",
      "평점 \n",
      "7.1/10\n",
      "\n",
      "\n",
      "주간관객\n",
      "주간관객 463723명\n",
      "개봉일\n",
      "2020.02.05 개봉\n",
      "\n",
      "\n",
      "None\n",
      "\n",
      "작은 아씨들\n",
      "\n",
      "평점 \n",
      "7.6/10\n",
      "\n",
      "\n",
      "주간관객\n",
      "주간관객 449102명\n",
      "개봉일\n",
      "2020.02.12 개봉\n",
      "\n",
      "\n",
      "None\n",
      "\n",
      "남산의 부장들\n",
      "\n",
      "평점 \n",
      "8.4/10\n",
      "\n",
      "\n",
      "주간관객\n",
      "주간관객 142923명\n",
      "개봉일\n",
      "2020.01.22 개봉\n",
      "\n",
      "\n",
      "None\n",
      "\n",
      "기생충\n",
      "\n",
      "평점 \n",
      "7.9/10\n",
      "\n",
      "\n",
      "주간관객\n",
      "주간관객 129823명\n",
      "개봉일\n",
      "2019.05.30 개봉\n",
      "\n",
      "\n",
      "None\n",
      "\n",
      "버즈 오브 프레이(할리 퀸의 황홀한 해방)\n",
      "\n",
      "평점 \n",
      "6.9/10\n",
      "\n",
      "\n",
      "주간관객\n",
      "주간관객 113344명\n",
      "개봉일\n",
      "2020.02.05 개봉\n",
      "\n",
      "\n",
      "None\n",
      "\n",
      "수퍼 소닉\n",
      "\n",
      "평점 \n",
      "6.7/10\n",
      "\n",
      "\n",
      "주간관객\n",
      "주간관객 86913명\n",
      "개봉일\n",
      "2020.02.12 개봉\n",
      "\n",
      "\n",
      "None\n",
      "\n",
      "히트맨\n",
      "\n",
      "평점 \n",
      "6.8/10\n",
      "\n",
      "\n",
      "주간관객\n",
      "주간관객 49093명\n",
      "개봉일\n",
      "2020.01.22 개봉\n",
      "\n",
      "\n",
      "None\n",
      "\n",
      "조조 래빗\n",
      "\n",
      "평점 \n",
      "8.4/10\n",
      "\n",
      "\n",
      "주간관객\n",
      "주간관객 43871명\n",
      "개봉일\n",
      "2020.02.05 개봉\n",
      "\n",
      "\n",
      "None\n",
      "\n",
      "극장판 미니특공대: 공룡왕 디노 \n",
      "\n",
      "평점 \n",
      "7.9/10\n",
      "\n",
      "\n",
      "주간관객\n",
      "주간관객 29390명\n",
      "개봉일\n",
      "2020.02.06 개봉\n",
      "\n",
      "\n",
      "None\n"
     ]
    }
   ],
   "source": [
    "for title in my_titles:\n",
    "    print(title.text)\n",
    "    print(title.get('href'))"
   ]
  },
  {
   "cell_type": "code",
   "execution_count": 14,
   "metadata": {},
   "outputs": [],
   "source": [
    "import json\n",
    "import os "
   ]
  },
  {
   "cell_type": "code",
   "execution_count": 19,
   "metadata": {},
   "outputs": [],
   "source": [
    "data = {}\n",
    "\n",
    "for title in my_titles:\n",
    "    data[title.text] = title.get('herf')\n",
    "         \n",
    "def toJson(data):\n",
    "         with open('data.json', 'w', encoding='utf-8') as file : \n",
    "          json.dump(data, file, ensure_ascii=False, indent='\\t')\n",
    "\n",
    "         "
   ]
  },
  {
   "cell_type": "code",
   "execution_count": 20,
   "metadata": {},
   "outputs": [],
   "source": [
    "toJson(data)"
   ]
  },
  {
   "cell_type": "code",
   "execution_count": 22,
   "metadata": {},
   "outputs": [],
   "source": [
    "def toCSV(data):\n",
    "    with open('다음데이터.csv', 'w', encoding='utf8', newline='') as f:\n",
    "        w = csv.writer(f)\n",
    "        w.writerows(texts)"
   ]
  },
  {
   "cell_type": "code",
   "execution_count": 23,
   "metadata": {},
   "outputs": [
    {
     "ename": "NameError",
     "evalue": "name 'csv' is not defined",
     "output_type": "error",
     "traceback": [
      "\u001b[1;31m---------------------------------------------------------------------------\u001b[0m",
      "\u001b[1;31mNameError\u001b[0m                                 Traceback (most recent call last)",
      "\u001b[1;32m<ipython-input-23-64ac17f1632d>\u001b[0m in \u001b[0;36m<module>\u001b[1;34m\u001b[0m\n\u001b[1;32m----> 1\u001b[1;33m \u001b[0mtoCSV\u001b[0m\u001b[1;33m(\u001b[0m\u001b[0mdata\u001b[0m\u001b[1;33m)\u001b[0m\u001b[1;33m\u001b[0m\u001b[1;33m\u001b[0m\u001b[0m\n\u001b[0m",
      "\u001b[1;32m<ipython-input-22-a4d7fd7b90fc>\u001b[0m in \u001b[0;36mtoCSV\u001b[1;34m(data)\u001b[0m\n\u001b[0;32m      1\u001b[0m \u001b[1;32mdef\u001b[0m \u001b[0mtoCSV\u001b[0m\u001b[1;33m(\u001b[0m\u001b[0mdata\u001b[0m\u001b[1;33m)\u001b[0m\u001b[1;33m:\u001b[0m\u001b[1;33m\u001b[0m\u001b[1;33m\u001b[0m\u001b[0m\n\u001b[0;32m      2\u001b[0m     \u001b[1;32mwith\u001b[0m \u001b[0mopen\u001b[0m\u001b[1;33m(\u001b[0m\u001b[1;34m'다음데이터.csv'\u001b[0m\u001b[1;33m,\u001b[0m \u001b[1;34m'w'\u001b[0m\u001b[1;33m,\u001b[0m \u001b[0mencoding\u001b[0m\u001b[1;33m=\u001b[0m\u001b[1;34m'utf8'\u001b[0m\u001b[1;33m,\u001b[0m \u001b[0mnewline\u001b[0m\u001b[1;33m=\u001b[0m\u001b[1;34m''\u001b[0m\u001b[1;33m)\u001b[0m \u001b[1;32mas\u001b[0m \u001b[0mf\u001b[0m\u001b[1;33m:\u001b[0m\u001b[1;33m\u001b[0m\u001b[1;33m\u001b[0m\u001b[0m\n\u001b[1;32m----> 3\u001b[1;33m         \u001b[0mw\u001b[0m \u001b[1;33m=\u001b[0m \u001b[0mcsv\u001b[0m\u001b[1;33m.\u001b[0m\u001b[0mwriter\u001b[0m\u001b[1;33m(\u001b[0m\u001b[0mf\u001b[0m\u001b[1;33m)\u001b[0m\u001b[1;33m\u001b[0m\u001b[1;33m\u001b[0m\u001b[0m\n\u001b[0m\u001b[0;32m      4\u001b[0m         \u001b[0mw\u001b[0m\u001b[1;33m.\u001b[0m\u001b[0mwriterows\u001b[0m\u001b[1;33m(\u001b[0m\u001b[0mtexts\u001b[0m\u001b[1;33m)\u001b[0m\u001b[1;33m\u001b[0m\u001b[1;33m\u001b[0m\u001b[0m\n",
      "\u001b[1;31mNameError\u001b[0m: name 'csv' is not defined"
     ]
    }
   ],
   "source": [
    "toCSV(data)"
   ]
  },
  {
   "cell_type": "code",
   "execution_count": null,
   "metadata": {},
   "outputs": [],
   "source": []
  }
 ],
 "metadata": {
  "kernelspec": {
   "display_name": "Python 3",
   "language": "python",
   "name": "python3"
  },
  "language_info": {
   "codemirror_mode": {
    "name": "ipython",
    "version": 3
   },
   "file_extension": ".py",
   "mimetype": "text/x-python",
   "name": "python",
   "nbconvert_exporter": "python",
   "pygments_lexer": "ipython3",
   "version": "3.7.3"
  }
 },
 "nbformat": 4,
 "nbformat_minor": 2
}
